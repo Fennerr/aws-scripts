{
 "cells": [
  {
   "cell_type": "code",
   "execution_count": 10,
   "metadata": {},
   "outputs": [
    {
     "name": "stdout",
     "output_type": "stream",
     "text": [
      "{'CommandId': '8858afcb-f950-4e98-9c56-f935731ffd38', 'InstanceId': 'i-0cd7c684127cf040d', 'InstanceName': 'ip-10-0-1-239.eu-west-1.compute.internal', 'Comment': '', 'DocumentName': 'MWR-SSM-Test-Case', 'DocumentVersion': '$DEFAULT', 'RequestedDateTime': datetime.datetime(2022, 9, 22, 11, 9, 36, 945000, tzinfo=tzlocal()), 'Status': 'Success', 'StatusDetails': 'Success', 'StandardOutputUrl': '', 'StandardErrorUrl': '', 'CommandPlugins': [], 'ServiceRole': '', 'NotificationConfig': {'NotificationArn': '', 'NotificationEvents': [], 'NotificationType': ''}, 'CloudWatchOutputConfig': {'CloudWatchLogGroupName': '', 'CloudWatchOutputEnabled': False}}\n"
     ]
    }
   ],
   "source": [
    "import boto3\n",
    "import os\n",
    "import pathlib\n",
    "s = boto3.session.Session(profile_name='sanlam-dev-admin')\n",
    "\n",
    "ssm = s.client('ssm')\n",
    "test = ssm.list_command_invocations(InstanceId=\"i-0cd7c684127cf040d\")['CommandInvocations'][0]\n",
    "print(test)"
   ]
  },
  {
   "cell_type": "code",
   "execution_count": null,
   "metadata": {},
   "outputs": [
    {
     "ename": "SyntaxError",
     "evalue": "invalid syntax (2809459617.py, line 29)",
     "output_type": "error",
     "traceback": [
      "\u001b[0;36m  Cell \u001b[0;32mIn [14], line 29\u001b[0;36m\u001b[0m\n\u001b[0;31m    respositories = ecr. .list_clusters()['clusterArns']\u001b[0m\n\u001b[0m                         ^\u001b[0m\n\u001b[0;31mSyntaxError\u001b[0m\u001b[0;31m:\u001b[0m invalid syntax\n"
     ]
    }
   ],
   "source": [
    "import boto3\n",
    "import argparse\n",
    "import json\n",
    "import logging\n",
    "import pathlib\n",
    "from pprint import pprint\n",
    "s = boto3.session.Session(profile_name='sanlam-dev-admin')\n",
    "\n",
    "\n",
    "def save_data(filename,data):\n",
    "    # Make output dir if it doesnt exist\n",
    "    output_dir = pathlib.Path(__file__).parent.absolute() / 'output'\n",
    "    output_dir.mkdir(exist_ok=True)\n",
    "    filepath = output_dir / filename\n",
    "    with filepath.open(\"w\") as write_file:\n",
    "        json.dump(data, write_file, indent=4, default=str)\n",
    "\n",
    "\n",
    "def check_ecs_exec_enabled(specific_region):\n",
    "    if specific_region == None:\n",
    "        regions = s.get_available_regions('ecr')\n",
    "        regions = [i for i in regions if i not in not_allowed_regions]\n",
    "    else:\n",
    "        regions = [specific_region]\n",
    "    \n",
    "    repository_access_policies = []\n",
    "    for region in regions:\n",
    "        ecr = s.client('ecr',region_name=region)\n",
    "        respositories = ecr. .list_clusters()['clusterArns']\n",
    "        for cluster in clusters:\n",
    "            tasks = ecs.list_tasks(cluster=cluster)['taskArns']\n",
    "            if not tasks:\n",
    "                continue\n",
    "            # for task in tasks:\n",
    "            task_data = ecs.describe_tasks(tasks=tasks,cluster=cluster)['tasks']\n",
    "            for individual_task_data in task_data:\n",
    "                if \"enableExecuteCommand\" in individual_task_data.keys():\n",
    "                    print(f\"Looks like ECS exec is enabled for cluster {cluster}\")\n",
    "                for container_definition in individual_task_data['containers']:\n",
    "                    if not \"managedAgents\" in container_definition.keys():\n",
    "                        continue\n",
    "                    for managed_agent in container_definition['managedAgents']:\n",
    "                        if managed_agent[\"name\"] == \"ExecuteCommandAgent\":\n",
    "                            print(\"Found an ECS container with the ECS Exec Managed Agent on it\")\n",
    "                            print(task_data)\n",
    "                            continue    \n",
    "            print(f\"Nothing found for {cluster}\")\n",
    "        total_task_data.append(task_data)\n",
    "\n",
    "    save_data(f\"{account_id}-ecs-task_data.json\",total_task_data)\n",
    "\n",
    "s = boto3.session.Session(profile_name='sanlam-dev-admin')\n",
    "\n",
    "# Check that the profile creds are valid\n",
    "sts = s.client('sts')\n",
    "try:\n",
    "    sts_info = sts.get_caller_identity()\n",
    "    account_id = sts_info.get('Account')\n",
    "except sts.exceptions.ClientError as e:\n",
    "    print(f\"{e}\")\n",
    "    print(f\"Exiting..\")\n",
    "    exit()\n",
    "\n",
    "not_allowed_regions = []\n",
    "\n",
    "check_ecs_exec_enabled('eu-west-1')\n",
    "# ecs.execute_command(\n",
    "#     command='cat /etc/passwd',\n",
    "#     con\n",
    "\n",
    "# )\n",
    "# print(clusters)\n",
    "# # services = ecs.list_services()\n",
    "# tasks = ecs.list_tasks()"
   ]
  },
  {
   "cell_type": "code",
   "execution_count": null,
   "metadata": {},
   "outputs": [],
   "source": []
  },
  {
   "cell_type": "code",
   "execution_count": null,
   "metadata": {},
   "outputs": [],
   "source": []
  },
  {
   "cell_type": "code",
   "execution_count": null,
   "metadata": {},
   "outputs": [],
   "source": []
  }
 ],
 "metadata": {
  "kernelspec": {
   "display_name": "Python 3.10.6 ('venv')",
   "language": "python",
   "name": "python3"
  },
  "language_info": {
   "codemirror_mode": {
    "name": "ipython",
    "version": 3
   },
   "file_extension": ".py",
   "mimetype": "text/x-python",
   "name": "python",
   "nbconvert_exporter": "python",
   "pygments_lexer": "ipython3",
   "version": "3.10.6"
  },
  "orig_nbformat": 4,
  "vscode": {
   "interpreter": {
    "hash": "408e4f3d80575fa928aa444d317b6223c5f72c90e57630bd6fccb114f3af346a"
   }
  }
 },
 "nbformat": 4,
 "nbformat_minor": 2
}
