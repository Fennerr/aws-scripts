{
 "cells": [
  {
   "cell_type": "code",
   "execution_count": 2,
   "metadata": {},
   "outputs": [
    {
     "data": {
      "text/html": [
       "<pre style=\"white-space:pre;overflow-x:auto;line-height:normal;font-family:Menlo,'DejaVu Sans Mono',consolas,'Courier New',monospace\">Total subnets: <span style=\"color: #008080; text-decoration-color: #008080; font-weight: bold\">9</span>\n",
       "</pre>\n"
      ],
      "text/plain": [
       "Total subnets: \u001b[1;36m9\u001b[0m\n"
      ]
     },
     "metadata": {},
     "output_type": "display_data"
    }
   ],
   "source": [
    "import boto3\n",
    "import argparse\n",
    "import json\n",
    "import logging\n",
    "import pathlib\n",
    "from rich import print\n",
    "# ###################################################\n",
    "# # Input Variables\n",
    "# parser = argparse.ArgumentParser()\n",
    "# optionalNamed = parser.add_argument_group('optional named arguments')\n",
    "# optionalNamed.add_argument(\"-p\",\"--profile\",default='default',type=str,help=\"The AWS profile to use\")\n",
    "# optionalNamed.add_argument(\"--env\",type=str,help=\"Use Environment Variables rather than an AWS profile\")\n",
    "# optionalNamed.add_argument(\"--region\",type=str,help=\"To enumerate the policies for a specific region (defaults to all regions)\")\n",
    "# optionalNamed.add_argument(\"--log\",default='info',type=str,help=\"The logging level (debug,info,warning,error,critical)\")\n",
    "\n",
    "# # Get the passed arguements\n",
    "# args = parser.parse_args()\n",
    "\n",
    "class argss:\n",
    "    profile = '981710073011_SSOPentestRole'\n",
    "    # profile = '002627273584_SSOPentestRole'\n",
    "\n",
    "args = argss()\n",
    "# args[\"profile\"] = \"981710073011_SSOPentestRole\"\n",
    "s = boto3.session.Session(profile_name=args.profile,region_name='af-south-1')\n",
    "ec2 = s.client(\"ec2\",region_name='af-south-1')\n",
    "\n",
    "\n",
    "########################### ENIS\n",
    "class ENI(dict):\n",
    "    # attributes_to_load = \"Attachment\",\"SubnetId\",\"Groups\"\n",
    "\n",
    "    def __init__(self, eni_dict: dict) -> None:\n",
    "        for k,v in eni_dict.items():\n",
    "            # if k in ENI.attributes_to_load:\n",
    "                self[k] = v\n",
    " \n",
    "class ENIS(dict):\n",
    "    def __init__(self,list_of_eni_dicts) -> None:\n",
    "        for eni_dict in list_of_eni_dicts:\n",
    "            network_id = eni_dict[\"NetworkInterfaceId\"]\n",
    "            self[network_id] = ENI(eni_dict)\n",
    "\n",
    "    def attach_resource(self, eni_id: str, resource_type: str,resource_data: dict):\n",
    "        if \"attached_resource_types\" not in self[eni_id].keys():\n",
    "            self[eni_id][\"attached_resource_types\"] = [resource_type]\n",
    "        elif resource_type not in self[eni_id][\"attached_resource_types\"]:\n",
    "            self[eni_id][\"attached_resource_types\"].append(resource_type)\n",
    "        # Can be attached to multiple eni's. Instanctiate the list if it's the first entry, else append to it\n",
    "        if \"attached_resources\" not in self[eni_id].keys():\n",
    "            self[eni_id][\"attached_resources\"] = [resource_data]\n",
    "        elif resource_data not in self[eni_id][\"attached_resources\"]:\n",
    "            self[eni_id][\"attached_resources\"].append(resource_data)\n",
    "\n",
    "eni_data = ec2.describe_network_interfaces()[\"NetworkInterfaces\"]\n",
    "enis = ENIS(eni_data)\n",
    "\n",
    "########################### Subnets\n",
    "class SUBNET(dict):\n",
    "    # attributes_to_load = \"Attachment\",\"SubnetId\",\"Groups\"\n",
    "    def __init__(self, subnet_dict: dict) -> None:\n",
    "        for k,v in subnet_dict.items():\n",
    "            # if k in ENI.attributes_to_load:\n",
    "            self[k] = v\n",
    "        self.find_enis_in_subnet()\n",
    "        # print(f\"Found {len(self.enis_in_sunet)} ENIs in {self['SubnetId']}\")\n",
    "\n",
    "    def find_enis_in_subnet(self):\n",
    "        self.enis_in_sunet = [([x['NetworkInterfaceId'],x['PrivateIpAddress']]) \n",
    "                    for k,x in enis.items() \n",
    "                    if x[\"SubnetId\"] == self[\"SubnetId\"]]\n",
    "subnet_data = ec2.describe_subnets()[\"Subnets\"]\n",
    "subnets = [SUBNET(x) for x in subnet_data]\n",
    "                    \n",
    "print(f\"Total subnets: {len(subnets)}\")\n",
    "\n",
    "# for subnet in subnets:\n",
    "#     # print(subnet['SubnetId'])\n",
    "#     enis_in_subnet = [', '.join([x['NetworkInterfaceId'],x['PrivateIpAddress']]) \n",
    "#                     for k,x in enis.items() \n",
    "#                     if x[\"SubnetId\"] == subnet[\"SubnetId\"]]\n",
    "    # print(f\"ENIs in subnet {subnet['SubnetId']} ({subnet['CidrBlock']})\")\n",
    "    # print(enis_in_subnet)\n",
    "\n",
    "########################### VPC\n",
    "class VPC(dict):\n",
    "    def __init__(self, vpc_dict: dict) -> None:\n",
    "        for k,v in vpc_dict.items():\n",
    "            # if k in ENI.attributes_to_load:\n",
    "                self[k] = v\n",
    "        self.find_subnets()\n",
    "        # print(f\"Found {len(self.subnets)} subnets in {self['VpcId']}\")\n",
    "        # print(self.subnets)\n",
    "        self[\"AssociatedCidrBlocks\"] = [x['CidrBlock'] for x in self['CidrBlockAssociationSet'] if x['CidrBlockState']['State'] == 'associated']\n",
    "\n",
    "    def find_subnets(self):\n",
    "        self.subnets = [{\"SubnetId\": x['SubnetId'],\"CidrBlock\":x['CidrBlock']}\n",
    "                    for x in subnets \n",
    "                    if x[\"VpcId\"] == self[\"VpcId\"]]\n",
    "\n",
    "vpc_data = ec2.describe_vpcs()[\"Vpcs\"]\n",
    "vpcs = [VPC(x) for x in vpc_data]\n",
    "# for vpc in vpcs:\n",
    "#     print(vpc['VpcId'])\n",
    "#     subnets_in_vpc = [', '.join([x['SubnetId'],x['CidrBlock']]) \n",
    "#                     for x in subnets \n",
    "#                     if x[\"VpcId\"] == vpc[\"VpcId\"]]\n",
    "#     print(subnets_in_vpc)\n",
    "\n",
    "# for eni in enis:\n",
    "#     # check if it is associated with EC2\n",
    "#     # check if it is associated with ELB\n",
    "#     # check if it is associated with RDS\n",
    "#     # VPCE, EFS, TGW, Route53 Resolver,\n",
    "#     pass\n",
    "\n",
    "# Going to do it the other way around\n",
    "# Parse each service, and then mark the ENIs with types when they come up\n",
    "\n",
    "########################### EC2s\n",
    "reservations = ec2.describe_instances()['Reservations']\n",
    "ec2_instances = [y for x in reservations for y in x['Instances'] ]\n",
    "\n",
    "for ec2_instance in ec2_instances:\n",
    "    for network_interface in ec2_instance['NetworkInterfaces']:\n",
    "        enis.attach_resource(eni_id = network_interface[\"NetworkInterfaceId\"], resource_type='EC2', resource_data=network_interface)\n",
    "\n",
    "########################### ELBs\n",
    "elb_client = s.client(\"elb\")\n",
    "elbv2 =  s.client(\"elbv2\")\n",
    "\n",
    "for elbs in [elb_client.describe_load_balancers()[\"LoadBalancerDescriptions\"], elbv2.describe_load_balancers()[\"LoadBalancers\"]]:\n",
    "    for elb in elbs:\n",
    "        attached_enis = [v[\"NetworkInterfaceId\"] for k,v in enis.items() if elb[\"LoadBalancerName\"] in v[\"Description\"]]\n",
    "        for attached_eni in attached_enis:\n",
    "            enis.attach_resource(eni_id = attached_eni, resource_type='ELB', resource_data=elb)\n",
    "\n",
    "vpces = ec2.describe_vpc_endpoints()['VpcEndpoints']\n",
    "for vpce in vpces:\n",
    "    attached_enis = [x for x in enis if x in vpce[\"NetworkInterfaceIds\"]]\n",
    "    # print(attached_enis)\n",
    "    for attached_eni in attached_enis:\n",
    "            enis.attach_resource(eni_id = attached_eni, resource_type='VPCE', resource_data=vpce)\n",
    "\n",
    "# Each transit gateway attachment has an ENI\n",
    "tgws = ec2.describe_transit_gateway_vpc_attachments()['TransitGatewayVpcAttachments']\n",
    "for twg in tgws:\n",
    "    attach_id = twg['TransitGatewayAttachmentId']\n",
    "    search_string = f'Network Interface for Transit Gateway Attachment {attach_id}'\n",
    "    attached_enis = [k for k,v in enis.items() if search_string == v['Description']]\n",
    "    for attached_eni in attached_enis:\n",
    "            enis.attach_resource(eni_id = attached_eni, resource_type='TWG', resource_data=twg)\n",
    "# print(tgws)\n",
    "\n",
    "for ngw in ec2.describe_nat_gateways()['NatGateways']:\n",
    "    for address in ngw['NatGatewayAddresses']:\n",
    "        enis.attach_resource(eni_id = address['NetworkInterfaceId'], resource_type='NGW', resource_data={\"NAT Gateway\":ngw,\"IP Addresses\":address})\n",
    "\n",
    "r53 = s.client('route53resolver')\n",
    "resolvers = r53.list_resolver_endpoints()['ResolverEndpoints']\n",
    "# print(len(resolvers))\n",
    "for resolver in resolvers:\n",
    "    resolver_id = resolver['Id']\n",
    "    resolver_endpoints = r53.list_resolver_endpoint_ip_addresses(ResolverEndpointId=resolver_id)['IpAddresses']\n",
    "    for endpoint in resolver_endpoints:\n",
    "        endpoint_id = endpoint[\"IpId\"]\n",
    "        search_string = f\"Route 53 Resolver: {resolver_id}:{endpoint_id}\"\n",
    "        attached_enis = [k for k,v in enis.items() if search_string == v['Description']]\n",
    "        # print(f\"Found attached enis: {[name for name in attached_enis]}\")\n",
    "        for attached_eni in attached_enis:\n",
    "            enis.attach_resource(eni_id = attached_eni, resource_type='R53', resource_data={\"Resolver Endpoint\":resolver,\"IP Addresses\":endpoint})\n",
    "\n",
    "efs = s.client(\"efs\",region_name='af-south-1')\n",
    "file_systems = efs.describe_file_systems()['FileSystems']\n",
    "\n",
    "efs = s.client(\"efs\",region_name='af-south-1')\n",
    "file_systems = efs.describe_file_systems()['FileSystems']\n",
    "\n",
    "for file_system in file_systems:\n",
    "    file_system_id = file_system['FileSystemId']\n",
    "    # SecurityAudit doesnt have perms to do efs.describe_access_points() - so I can't get the fsmt value to build the full search_string\n",
    "    # Can still build the begining of the description - which will match all mount points for this efs\n",
    "    search_string = f\"EFS mount target for {file_system_id}\"\n",
    "    attached_enis = [k for k,v in enis.items() if search_string in v['Description']]\n",
    "    for attached_eni in attached_enis:\n",
    "        enis.attach_resource(eni_id = attached_eni, resource_type='EFS', resource_data=file_system)\n",
    "#efs.describe_access_points()\n",
    "\n",
    "sgs = ec2.describe_security_groups()['SecurityGroups']"
   ]
  },
  {
   "cell_type": "code",
   "execution_count": 3,
   "metadata": {},
   "outputs": [],
   "source": [
    "import ipaddress\n",
    "import itertools\n",
    "class SUBNET(dict):\n",
    "    protocol_mapping = {\n",
    "        '1': 'icmp',\n",
    "        '6': 'tcp',\n",
    "        '17': 'udp',\n",
    "        '58': 'icmpv6'\n",
    "    }\n",
    "    # attributes_to_load = \"Attachment\",\"SubnetId\",\"Groups\"\n",
    "    def __init__(self, subnet_dict: dict) -> None:\n",
    "        for k,v in subnet_dict.items():\n",
    "            # if k in ENI.attributes_to_load:\n",
    "            self[k] = v\n",
    "        self.find_enis_in_subnet()\n",
    "        # print(f\"Found {len(self['enis_in_sunet'])} ENIs in {self['SubnetId']}\")\n",
    "        self.get_nacls()\n",
    "        # self.check_nacls()\n",
    "\n",
    "    def find_enis_in_subnet(self):\n",
    "        self['enis_in_sunet'] = [k \n",
    "                    for k,x in enis.items() \n",
    "                    if x[\"SubnetId\"] == self[\"SubnetId\"]]\n",
    "\n",
    "    def get_nacls(self):\n",
    "        self['nacls'] = ec2.describe_network_acls(Filters=[\n",
    "            {\n",
    "                'Name': 'association.subnet-id',\n",
    "                'Values': [\n",
    "                    self['SubnetId']\n",
    "                ]\n",
    "            }\n",
    "        ])['NetworkAcls']\n",
    "\n",
    "    def to_ranges(self,iterable):\n",
    "        iterable = sorted(set(iterable))\n",
    "        for key, group in itertools.groupby(enumerate(iterable),\n",
    "                                            lambda t: t[1] - t[0]):\n",
    "            group = list(group)\n",
    "            yield group[0][1], group[-1][1]\n",
    "\n",
    "    def check_nacls(self,ip_address,protocol,from_port,to_port,ingress=True):\n",
    "        output = {'Allowed':[],'NotAllowed':[]}\n",
    "        test_port_range = range(int(from_port),int(to_port)+1)\n",
    "        for nacl in self['nacls']:\n",
    "            ingress_rules = sorted([entry for entry in nacl['Entries'] if entry['Egress'] == False], key=lambda d: d['RuleNumber'])\n",
    "            egress_rules = sorted([entry for entry in nacl['Entries'] if entry['Egress'] == True], key=lambda d: d['RuleNumber'])\n",
    "            if ingress:\n",
    "                target_rules = ingress_rules\n",
    "            else:\n",
    "                target_rules = egress_rules\n",
    "\n",
    "            for entry in target_rules:\n",
    "                overlapping_ports = []\n",
    "                not_overlapping_ports = []\n",
    "                if ipaddress.ip_address(ip_address) not in ipaddress.IPv4Network(entry['CidrBlock']):\n",
    "                    continue\n",
    "                # Protocols for NACLs are always numeric (ie 6 for tcp)\n",
    "                # Protocols for SGs use common name if it's udp,tcp,icmp,icmpv6 \n",
    "                # Will convert to SG format\n",
    "                entry_protocol = SUBNET.protocol_mapping[entry['Protocol']] if entry['Protocol'] in SUBNET.protocol_mapping else entry['Protocol']\n",
    "                if entry_protocol != '-1' and entry_protocol != protocol:\n",
    "                    continue\n",
    "                entry_from_port = entry['PortRange']['From'] if 'PortRange' in entry.keys() else 0\n",
    "                entry_to_port = entry['PortRange']['To'] if 'PortRange' in entry.keys() else 65535\n",
    "                entry_port_range = range(entry_from_port,entry_to_port+1)\n",
    "\n",
    "                overlapping_ports = [x for x in test_port_range if x in entry_port_range]\n",
    "                test_port_range = [x for x in test_port_range if x not in entry_port_range]\n",
    "\n",
    "                if not overlapping_ports:\n",
    "                    continue\n",
    "\n",
    "                if entry['RuleAction'] == 'allow':\n",
    "                    output['Allowed'].append({\n",
    "                        'Ports': list(self.to_ranges(overlapping_ports)),\n",
    "                        'RuleNumber': entry['RuleNumber']\n",
    "                    })\n",
    "                else:\n",
    "                    output['NotAllowed'].append({\n",
    "                        'Ports': list(self.to_ranges(overlapping_ports)),\n",
    "                        'RuleNumber': entry['RuleNumber'],\n",
    "                        'Default': True if entry == ingress_rules[-1] else False\n",
    "                    })\n",
    "        return output\n",
    "\n",
    "subnet_data = ec2.describe_subnets()[\"Subnets\"]\n",
    "subnets ={x['SubnetId']: SUBNET(x) for x in subnet_data}"
   ]
  },
  {
   "cell_type": "code",
   "execution_count": 4,
   "metadata": {},
   "outputs": [],
   "source": [
    "# enis['eni-0062108630e3f8b82'].items()\n",
    "\n",
    "from lib.graph.nodes import Resource\n",
    "\n",
    "temp_dict = enis['eni-0062108630e3f8b82']\n",
    "temp_dict['Name'] = 'eni-0062108630e3f8b82'\n",
    "\n",
    "test = Resource(labels=['ENI'],properties=temp_dict,key=\"Name\")\n",
    "\n",
    "test2 = 123\n"
   ]
  },
  {
   "cell_type": "code",
   "execution_count": 13,
   "metadata": {},
   "outputs": [
    {
     "data": {
      "text/plain": [
       "{'Allowed': [{'Ports': [(443, 443)], 'RuleNumber': 110}],\n",
       " 'NotAllowed': [{'Ports': [(0, 442), (444, 65535)],\n",
       "   'RuleNumber': 32767,\n",
       "   'Default': True}]}"
      ]
     },
     "execution_count": 13,
     "metadata": {},
     "output_type": "execute_result"
    }
   ],
   "source": [
    "# subnets.keys()\n",
    "subnets['subnet-05c3ab9fb3a801857'].check_nacls(ip_address='173.245.48.1',protocol='tcp',from_port='0',to_port='65535')"
   ]
  },
  {
   "cell_type": "code",
   "execution_count": null,
   "metadata": {},
   "outputs": [],
   "source": [
    "# sgs[0]\n",
    "import ipaddress\n",
    "\n",
    "def parse_allowed_enis(allowed_enis,associated_enis):\n",
    "    for allowed_eni in allowed_enis:\n",
    "        for associated_eni in associated_enis:\n",
    "            target_subnet = enis[associated_eni]['SubnetId']\n",
    "            source_subnet = enis[allowed_eni]['SubnetId']\n",
    "            if not source_subnet == target_subnet:\n",
    "                # Need to check the subnet NACL\n",
    "                target_ip = enis[associated_eni]['PrivateIpAddress']\n",
    "                source_ip = enis[allowed_eni]['PrivateIpAddress']\n",
    "                # Check Ingress rules for the target subnet\n",
    "                target_subnet_ingress_nacl_result = subnets[target_subnet].check_nacls(ip_address=source_ip,protocol=protocol,from_port=from_port,to_port=to_port)\n",
    "                # Check Egress rules for the source subnet\n",
    "                source_subnet_egress_nacl_result = subnets[source_subnet].check_nacls(ip_address=target_ip,protocol=protocol,from_port=from_port,to_port=to_port,ingress=False)\n",
    "                if len(source_subnet_egress_nacl_result['Allowed']) == 0 or len(target_subnet_ingress_nacl_result['Allowed']) == 0:\n",
    "                    if allowed_eni in allowed_enis:\n",
    "                        # print(f\"Removing {allowed_eni} from the allowed_enis\")\n",
    "                        allowed_enis.remove(allowed_eni)\n",
    "    return allowed_enis\n",
    "\n",
    "\n",
    "sg_eni_mapping = {}\n",
    "# Need to create these neo4j relationships\n",
    "for sg in sgs:\n",
    "    sg_eni_mapping[sg['GroupId']] = [k for k,eni in enis.items() if sg['GroupId'] in [attached_sg['GroupId'] for attached_sg in eni['Groups']]]\n",
    "\n",
    "for sg in sgs[2:3]:\n",
    "    sg_id = sg['GroupId']\n",
    "    sg_owner_id = sg['OwnerId']\n",
    "    for ip_permission in sg['IpPermissions']:\n",
    "        protocol = ip_permission['IpProtocol']\n",
    "        if protocol == \"-1\" or protocol == \"50\":\n",
    "            protocol = 'All'\n",
    "            from_port = 0\n",
    "            to_port = 65535\n",
    "        else:\n",
    "            from_port = ip_permission['FromPort'] if 'FromPort' in ip_permission.keys() else ''\n",
    "            to_port = ip_permission['ToPort'] if 'ToPort' in ip_permission.keys() else ''\n",
    "        \n",
    "        associated_enis = [k for k,eni in enis.items() if sg_id in [attached_sg['GroupId'] for attached_sg in eni['Groups']]]\n",
    "\n",
    "        ip_ranges = ip_permission['IpRanges']\n",
    "        for ip_range in ip_ranges:\n",
    "            cidr_range = ip_range['CidrIp']\n",
    "            network = ipaddress.IPv4Network(cidr_range) \n",
    "            # TODO: Need to loop through each ENI's PrivateIpAddresses instead of just using the primary address\n",
    "            allowed_enis = [k for k,eni in enis.items() if ipaddress.ip_address(eni['PrivateIpAddress']) in network]\n",
    "            print(f'{sg_id} allows {len(allowed_enis)} ENIs to access {len(associated_enis)} ENIs ({protocol}: {from_port}-{to_port}) (CIDR Range {cidr_range})')\n",
    "            allowed_enis = parse_allowed_enis(allowed_enis,associated_enis)\n",
    "            if len(allowed_enis) != len(after_nacl_allowed_enis):\n",
    "                print(f'{len(allowed_enis)} ENIs can access {len(associated_enis)} ENIs after parsing NACLs ({protocol}: {from_port}-{to_port}) (SG reference {referenced_sg_id})')\n",
    "\n",
    "                        # if len(source_subnet_egress_nacl_result['NotAllowed']) or len(target_subnet_ingress_nacl_result['NotAllowed']):\n",
    "                        #     print(f\"Source {allowed_eni} ({source_subnet}) is in a different subnet to Target {associated_eni} ({target_subnet}) and either the ingress or egress NACL rules prevent some of the allowed traffic (according to the SG)\")\n",
    "                        # if len(target_subnet_ingress_nacl_result['NotAllowed']) > 0:\n",
    "                        #     print(f\"Target Subnet Ingress NACL Result: {target_subnet_ingress_nacl_result}\")\n",
    "                        # if len(source_subnet_egress_nacl_result['NotAllowed']) > 0:\n",
    "                        #     print(f\"Source Subnet Egress NACL Result: {source_subnet_egress_nacl_result}\")\n",
    "                \n",
    "\n",
    "        referenced_sgs = ip_permission['UserIdGroupPairs']\n",
    "        for referenced_sg in referenced_sgs:\n",
    "            referenced_sg_id = referenced_sg['GroupId']\n",
    "            if referenced_sg_id not in sg_eni_mapping.keys():\n",
    "                continue\n",
    "            allowed_enis = [k for k,eni in enis.items() if referenced_sg_id in [attached_sg['GroupId'] for attached_sg in eni['Groups']]]\n",
    "            print(f'{sg_id} allows {len(allowed_enis)} ENIs to access {len(associated_enis)} ENIs ({protocol}: {from_port}-{to_port}) (SG reference {referenced_sg_id})')\n",
    "            if not referenced_sg['UserId'] == sg_owner_id:\n",
    "                print(f\"External SG referenced in {sg_id}!\")\n",
    "            after_nacl_allowed_enis = parse_allowed_enis(allowed_enis,associated_enis)\n",
    "            if len(allowed_enis) != len(after_nacl_allowed_enis):\n",
    "                print(f'{len(allowed_enis)} ENIs can access {len(associated_enis)} ENIs after parsing NACLs ({protocol}: {from_port}-{to_port}) (SG reference {referenced_sg_id})')\n",
    "            # for allowed_eni in allowed_enis:\n",
    "            #     for associated_eni in associated_enis:\n",
    "            #         target_subnet = enis[associated_eni]['SubnetId']\n",
    "            #         source_subnet = enis[allowed_eni]['SubnetId']\n",
    "            #         if not source_subnet == target_subnet:\n",
    "            #             # Need to check the subnet NACL\n",
    "            #             target_ip = enis[associated_eni]['PrivateIpAddress']\n",
    "            #             source_ip = enis[allowed_eni]['PrivateIpAddress']\n",
    "            #             # Check Ingress rules for the target subnet\n",
    "            #             target_subnet_ingress_nacl_result = subnets[target_subnet].check_nacls(ip_address=source_ip,protocol=protocol,from_port=from_port,to_port=to_port)\n",
    "            #             # Check Egress rules for the source subnet\n",
    "            #             source_subnet_egress_nacl_result = subnets[source_subnet].check_nacls(ip_address=target_ip,protocol=protocol,from_port=from_port,to_port=to_port,ingress=False)\n",
    "            #             if len(source_subnet_egress_nacl_result['Allowed']) == 0 or len(target_subnet_ingress_nacl_result['Allowed']) == 0:\n",
    "            #                 try:\n",
    "            #                     allowed_enis.remove(allowed_eni)\n",
    "            #                 except ValueError:\n",
    "            #                     # Already removed the ENI when parsing a previously associated ENI\n",
    "            #                     continue\n",
    "\n",
    "                        # if len(source_subnet_egress_nacl_result['NotAllowed']) or len(target_subnet_ingress_nacl_result['NotAllowed']):\n",
    "                        #     print(f\"Source {allowed_eni} ({source_subnet}) is in a different subnet to Target {associated_eni} ({target_subnet}) and either the ingress or egress NACL rules prevent some of the allowed traffic (according to the SG)\")\n",
    "                        # if len(target_subnet_ingress_nacl_result['NotAllowed']) > 0:\n",
    "                        #     print(f\"Target Subnet Ingress NACL Result: {target_subnet_ingress_nacl_result}\")\n",
    "                        # if len(source_subnet_egress_nacl_result['NotAllowed']) > 0:\n",
    "                        #     print(f\"Source Subnet Egress NACL Result: {source_subnet_egress_nacl_result}\")\n",
    "                        \n",
    "            # print(f'{sg_id} allows {allowed_enis} to access {associated_enis} after parsing NACLs ({protocol}: {from_port}-{to_port}) (SG reference {referenced_sg_id})')\n",
    "                        "
   ]
  },
  {
   "cell_type": "code",
   "execution_count": null,
   "metadata": {},
   "outputs": [],
   "source": [
    "import ipaddress\n",
    "enis_ip_addresses = [ipaddress.ip_address(eni['PrivateIpAddress']) for k,eni in enis.items()]"
   ]
  },
  {
   "cell_type": "code",
   "execution_count": 24,
   "metadata": {},
   "outputs": [
    {
     "data": {
      "text/plain": [
       "IPv4Address('10.167.2.16')"
      ]
     },
     "execution_count": 24,
     "metadata": {},
     "output_type": "execute_result"
    }
   ],
   "source": [
    "enis_ip_addresses[0]"
   ]
  },
  {
   "cell_type": "code",
   "execution_count": null,
   "metadata": {},
   "outputs": [],
   "source": [
    "for x in [v for k,v in enis.items() if k in vpce[\"NetworkInterfaceIds\"]]:\n",
    "    print(x)\n",
    "print(vpce[\"NetworkInterfaceIds\"])\n",
    "print([x for x in enis])"
   ]
  },
  {
   "cell_type": "code",
   "execution_count": 5,
   "metadata": {},
   "outputs": [
    {
     "data": {
      "text/plain": [
       "[{'Attachment': {'AttachmentId': 'ela-attach-09546b58ef08d3b57',\n",
       "   'DeleteOnTermination': False,\n",
       "   'DeviceIndex': 1,\n",
       "   'InstanceOwnerId': 'amazon-aws',\n",
       "   'Status': 'attached'},\n",
       "  'AvailabilityZone': 'af-south-1a',\n",
       "  'Description': 'EFS mount target for fs-0da59a09306e7ab0c (fsmt-0efa12722129b5300)',\n",
       "  'Groups': [{'GroupName': 'default', 'GroupId': 'sg-0cfd8455bd3fb7ba2'},\n",
       "   {'GroupName': 'terraform-20220712072609866700000001',\n",
       "    'GroupId': 'sg-01db446416acda057'}],\n",
       "  'InterfaceType': 'interface',\n",
       "  'Ipv6Addresses': [],\n",
       "  'MacAddress': '06:52:a7:c1:9f:62',\n",
       "  'NetworkInterfaceId': 'eni-01f3f6b6b7f159e06',\n",
       "  'OwnerId': '981710073011',\n",
       "  'PrivateDnsName': 'ip-10-167-2-5.af-south-1.compute.internal',\n",
       "  'PrivateIpAddress': '10.167.2.5',\n",
       "  'PrivateIpAddresses': [{'Primary': True,\n",
       "    'PrivateDnsName': 'ip-10-167-2-5.af-south-1.compute.internal',\n",
       "    'PrivateIpAddress': '10.167.2.5'}],\n",
       "  'RequesterId': '355971801051',\n",
       "  'RequesterManaged': True,\n",
       "  'SourceDestCheck': True,\n",
       "  'Status': 'in-use',\n",
       "  'SubnetId': 'subnet-0169a94116eb8ce72',\n",
       "  'TagSet': [],\n",
       "  'VpcId': 'vpc-08a6aa15e0efc5af7',\n",
       "  'attached_resource_types': ['EFS'],\n",
       "  'attached_resources': [{'OwnerId': '981710073011',\n",
       "    'CreationToken': 'console-ae863c26-d759-4a95-8c64-6ec0f25ab030',\n",
       "    'FileSystemId': 'fs-0da59a09306e7ab0c',\n",
       "    'FileSystemArn': 'arn:aws:elasticfilesystem:af-south-1:981710073011:file-system/fs-0da59a09306e7ab0c',\n",
       "    'CreationTime': datetime.datetime(2022, 7, 13, 18, 28, 10, tzinfo=tzlocal()),\n",
       "    'LifeCycleState': 'available',\n",
       "    'Name': 'EFS',\n",
       "    'NumberOfMountTargets': 3,\n",
       "    'SizeInBytes': {'Value': 6144,\n",
       "     'Timestamp': datetime.datetime(2022, 10, 27, 9, 44, 44, tzinfo=tzlocal()),\n",
       "     'ValueInIA': 0,\n",
       "     'ValueInStandard': 6144},\n",
       "    'PerformanceMode': 'generalPurpose',\n",
       "    'Encrypted': True,\n",
       "    'KmsKeyId': 'arn:aws:kms:af-south-1:981710073011:key/fee2e981-59fc-4c70-a6c4-2f0fa9106991',\n",
       "    'ThroughputMode': 'bursting',\n",
       "    'Tags': [{'Key': 'Name', 'Value': 'EFS'},\n",
       "     {'Key': 'aws:elasticfilesystem:default-backup', 'Value': 'enabled'}]}]}]"
      ]
     },
     "execution_count": 5,
     "metadata": {},
     "output_type": "execute_result"
    }
   ],
   "source": [
    "\n",
    "# print([v['attached_resource_types'] for k,v in enis.items() if 'attached_resource_types' in v.keys()])\n",
    "# print(f\"Completed {len([k for k,v in enis.items() if 'attached_resource_types' in v.keys()])}\")\n",
    "# print(f\"Still need to process {len([k for k,v in enis.items() if not 'attached_resource_types' in v.keys()])}\")\n",
    "# [(enis[x][\"attached_resource_types\"],enis[x][\"attached_resources\"]) for x in enis if x == 'eni-01f3f6b6b7f159e06'] \n",
    "[enis[x] for x in enis if x == 'eni-01f3f6b6b7f159e06'] "
   ]
  },
  {
   "cell_type": "code",
   "execution_count": 197,
   "metadata": {},
   "outputs": [
    {
     "data": {
      "text/html": [
       "<pre style=\"white-space:pre;overflow-x:auto;line-height:normal;font-family:Menlo,'DejaVu Sans Mono',consolas,'Courier New',monospace\"><span style=\"font-weight: bold\">{</span><span style=\"color: #008000; text-decoration-color: #008000\">'EFS'</span>: <span style=\"color: #008080; text-decoration-color: #008080; font-weight: bold\">9</span>, <span style=\"color: #008000; text-decoration-color: #008000\">'VPCE'</span>: <span style=\"color: #008080; text-decoration-color: #008080; font-weight: bold\">24</span>, <span style=\"color: #008000; text-decoration-color: #008000\">'ELB'</span>: <span style=\"color: #008080; text-decoration-color: #008080; font-weight: bold\">12</span>, <span style=\"color: #008000; text-decoration-color: #008000\">'EC2'</span>: <span style=\"color: #008080; text-decoration-color: #008080; font-weight: bold\">14</span>, <span style=\"color: #008000; text-decoration-color: #008000\">'TWG'</span>: <span style=\"color: #008080; text-decoration-color: #008080; font-weight: bold\">3</span>, <span style=\"color: #008000; text-decoration-color: #008000\">'R53'</span>: <span style=\"color: #008080; text-decoration-color: #008080; font-weight: bold\">3</span><span style=\"font-weight: bold\">}</span>\n",
       "</pre>\n"
      ],
      "text/plain": [
       "\u001b[1m{\u001b[0m\u001b[32m'EFS'\u001b[0m: \u001b[1;36m9\u001b[0m, \u001b[32m'VPCE'\u001b[0m: \u001b[1;36m24\u001b[0m, \u001b[32m'ELB'\u001b[0m: \u001b[1;36m12\u001b[0m, \u001b[32m'EC2'\u001b[0m: \u001b[1;36m14\u001b[0m, \u001b[32m'TWG'\u001b[0m: \u001b[1;36m3\u001b[0m, \u001b[32m'R53'\u001b[0m: \u001b[1;36m3\u001b[0m\u001b[1m}\u001b[0m\n"
      ]
     },
     "metadata": {},
     "output_type": "display_data"
    }
   ],
   "source": [
    "# [k for k,v in enis.items() if \"attached_resource_types\" not in v.keys()]\n",
    "# [(enis[x][\"attached_resource_types\"],enis[x][\"attached_resources\"]) for x in enis if x == 'eni-01f3f6b6b7f159e06'] \n",
    "\n",
    "output = {}\n",
    "for x in [enis[x][\"attached_resource_types\"] for x in enis]:\n",
    "    for resource_type in x:\n",
    "        if resource_type not in output.keys():\n",
    "            output[resource_type] = 1\n",
    "        else:\n",
    "            output[resource_type] += 1\n",
    "print(output)\n",
    "\n",
    "# print(num_values)"
   ]
  },
  {
   "cell_type": "code",
   "execution_count": 198,
   "metadata": {},
   "outputs": [
    {
     "data": {
      "text/html": [
       "<pre style=\"white-space:pre;overflow-x:auto;line-height:normal;font-family:Menlo,'DejaVu Sans Mono',consolas,'Courier New',monospace\"><span style=\"font-weight: bold\">[</span><span style=\"color: #008000; text-decoration-color: #008000\">'EC2'</span><span style=\"font-weight: bold\">]</span>\n",
       "</pre>\n"
      ],
      "text/plain": [
       "\u001b[1m[\u001b[0m\u001b[32m'EC2'\u001b[0m\u001b[1m]\u001b[0m\n"
      ]
     },
     "metadata": {},
     "output_type": "display_data"
    },
    {
     "data": {
      "text/html": [
       "<pre style=\"white-space:pre;overflow-x:auto;line-height:normal;font-family:Menlo,'DejaVu Sans Mono',consolas,'Courier New',monospace\"><span style=\"font-weight: bold\">[</span><span style=\"color: #008000; text-decoration-color: #008000\">'EC2'</span><span style=\"font-weight: bold\">]</span>\n",
       "</pre>\n"
      ],
      "text/plain": [
       "\u001b[1m[\u001b[0m\u001b[32m'EC2'\u001b[0m\u001b[1m]\u001b[0m\n"
      ]
     },
     "metadata": {},
     "output_type": "display_data"
    },
    {
     "data": {
      "text/html": [
       "<pre style=\"white-space:pre;overflow-x:auto;line-height:normal;font-family:Menlo,'DejaVu Sans Mono',consolas,'Courier New',monospace\"><span style=\"font-weight: bold\">[</span><span style=\"color: #008000; text-decoration-color: #008000\">'EC2'</span><span style=\"font-weight: bold\">]</span>\n",
       "</pre>\n"
      ],
      "text/plain": [
       "\u001b[1m[\u001b[0m\u001b[32m'EC2'\u001b[0m\u001b[1m]\u001b[0m\n"
      ]
     },
     "metadata": {},
     "output_type": "display_data"
    },
    {
     "data": {
      "text/html": [
       "<pre style=\"white-space:pre;overflow-x:auto;line-height:normal;font-family:Menlo,'DejaVu Sans Mono',consolas,'Courier New',monospace\"><span style=\"font-weight: bold\">[</span><span style=\"color: #008000; text-decoration-color: #008000\">'EC2'</span><span style=\"font-weight: bold\">]</span>\n",
       "</pre>\n"
      ],
      "text/plain": [
       "\u001b[1m[\u001b[0m\u001b[32m'EC2'\u001b[0m\u001b[1m]\u001b[0m\n"
      ]
     },
     "metadata": {},
     "output_type": "display_data"
    },
    {
     "data": {
      "text/html": [
       "<pre style=\"white-space:pre;overflow-x:auto;line-height:normal;font-family:Menlo,'DejaVu Sans Mono',consolas,'Courier New',monospace\"><span style=\"font-weight: bold\">[</span><span style=\"color: #008000; text-decoration-color: #008000\">'EC2'</span><span style=\"font-weight: bold\">]</span>\n",
       "</pre>\n"
      ],
      "text/plain": [
       "\u001b[1m[\u001b[0m\u001b[32m'EC2'\u001b[0m\u001b[1m]\u001b[0m\n"
      ]
     },
     "metadata": {},
     "output_type": "display_data"
    },
    {
     "data": {
      "text/html": [
       "<pre style=\"white-space:pre;overflow-x:auto;line-height:normal;font-family:Menlo,'DejaVu Sans Mono',consolas,'Courier New',monospace\"><span style=\"font-weight: bold\">[</span><span style=\"color: #008000; text-decoration-color: #008000\">'EC2'</span><span style=\"font-weight: bold\">]</span>\n",
       "</pre>\n"
      ],
      "text/plain": [
       "\u001b[1m[\u001b[0m\u001b[32m'EC2'\u001b[0m\u001b[1m]\u001b[0m\n"
      ]
     },
     "metadata": {},
     "output_type": "display_data"
    },
    {
     "data": {
      "text/html": [
       "<pre style=\"white-space:pre;overflow-x:auto;line-height:normal;font-family:Menlo,'DejaVu Sans Mono',consolas,'Courier New',monospace\"><span style=\"font-weight: bold\">[</span><span style=\"color: #008000; text-decoration-color: #008000\">'EC2'</span><span style=\"font-weight: bold\">]</span>\n",
       "</pre>\n"
      ],
      "text/plain": [
       "\u001b[1m[\u001b[0m\u001b[32m'EC2'\u001b[0m\u001b[1m]\u001b[0m\n"
      ]
     },
     "metadata": {},
     "output_type": "display_data"
    },
    {
     "data": {
      "text/html": [
       "<pre style=\"white-space:pre;overflow-x:auto;line-height:normal;font-family:Menlo,'DejaVu Sans Mono',consolas,'Courier New',monospace\"><span style=\"font-weight: bold\">[</span><span style=\"color: #008000; text-decoration-color: #008000\">'EC2'</span><span style=\"font-weight: bold\">]</span>\n",
       "</pre>\n"
      ],
      "text/plain": [
       "\u001b[1m[\u001b[0m\u001b[32m'EC2'\u001b[0m\u001b[1m]\u001b[0m\n"
      ]
     },
     "metadata": {},
     "output_type": "display_data"
    },
    {
     "data": {
      "text/html": [
       "<pre style=\"white-space:pre;overflow-x:auto;line-height:normal;font-family:Menlo,'DejaVu Sans Mono',consolas,'Courier New',monospace\"><span style=\"font-weight: bold\">[</span><span style=\"color: #008000; text-decoration-color: #008000\">'EC2'</span><span style=\"font-weight: bold\">]</span>\n",
       "</pre>\n"
      ],
      "text/plain": [
       "\u001b[1m[\u001b[0m\u001b[32m'EC2'\u001b[0m\u001b[1m]\u001b[0m\n"
      ]
     },
     "metadata": {},
     "output_type": "display_data"
    },
    {
     "data": {
      "text/html": [
       "<pre style=\"white-space:pre;overflow-x:auto;line-height:normal;font-family:Menlo,'DejaVu Sans Mono',consolas,'Courier New',monospace\"><span style=\"font-weight: bold\">[</span><span style=\"color: #008000; text-decoration-color: #008000\">'EC2'</span><span style=\"font-weight: bold\">]</span>\n",
       "</pre>\n"
      ],
      "text/plain": [
       "\u001b[1m[\u001b[0m\u001b[32m'EC2'\u001b[0m\u001b[1m]\u001b[0m\n"
      ]
     },
     "metadata": {},
     "output_type": "display_data"
    },
    {
     "data": {
      "text/html": [
       "<pre style=\"white-space:pre;overflow-x:auto;line-height:normal;font-family:Menlo,'DejaVu Sans Mono',consolas,'Courier New',monospace\"><span style=\"font-weight: bold\">[</span><span style=\"color: #008000; text-decoration-color: #008000\">'EC2'</span><span style=\"font-weight: bold\">]</span>\n",
       "</pre>\n"
      ],
      "text/plain": [
       "\u001b[1m[\u001b[0m\u001b[32m'EC2'\u001b[0m\u001b[1m]\u001b[0m\n"
      ]
     },
     "metadata": {},
     "output_type": "display_data"
    },
    {
     "data": {
      "text/html": [
       "<pre style=\"white-space:pre;overflow-x:auto;line-height:normal;font-family:Menlo,'DejaVu Sans Mono',consolas,'Courier New',monospace\"><span style=\"font-weight: bold\">[</span><span style=\"color: #008000; text-decoration-color: #008000\">'EC2'</span><span style=\"font-weight: bold\">]</span>\n",
       "</pre>\n"
      ],
      "text/plain": [
       "\u001b[1m[\u001b[0m\u001b[32m'EC2'\u001b[0m\u001b[1m]\u001b[0m\n"
      ]
     },
     "metadata": {},
     "output_type": "display_data"
    },
    {
     "data": {
      "text/html": [
       "<pre style=\"white-space:pre;overflow-x:auto;line-height:normal;font-family:Menlo,'DejaVu Sans Mono',consolas,'Courier New',monospace\"><span style=\"font-weight: bold\">[</span><span style=\"color: #008000; text-decoration-color: #008000\">'EC2'</span><span style=\"font-weight: bold\">]</span>\n",
       "</pre>\n"
      ],
      "text/plain": [
       "\u001b[1m[\u001b[0m\u001b[32m'EC2'\u001b[0m\u001b[1m]\u001b[0m\n"
      ]
     },
     "metadata": {},
     "output_type": "display_data"
    },
    {
     "data": {
      "text/html": [
       "<pre style=\"white-space:pre;overflow-x:auto;line-height:normal;font-family:Menlo,'DejaVu Sans Mono',consolas,'Courier New',monospace\"><span style=\"font-weight: bold\">[</span><span style=\"color: #008000; text-decoration-color: #008000\">'EC2'</span><span style=\"font-weight: bold\">]</span>\n",
       "</pre>\n"
      ],
      "text/plain": [
       "\u001b[1m[\u001b[0m\u001b[32m'EC2'\u001b[0m\u001b[1m]\u001b[0m\n"
      ]
     },
     "metadata": {},
     "output_type": "display_data"
    },
    {
     "data": {
      "text/html": [
       "<pre style=\"white-space:pre;overflow-x:auto;line-height:normal;font-family:Menlo,'DejaVu Sans Mono',consolas,'Courier New',monospace\"><span style=\"font-weight: bold\">[</span><span style=\"color: #008000; text-decoration-color: #008000\">'EC2'</span><span style=\"font-weight: bold\">]</span>\n",
       "</pre>\n"
      ],
      "text/plain": [
       "\u001b[1m[\u001b[0m\u001b[32m'EC2'\u001b[0m\u001b[1m]\u001b[0m\n"
      ]
     },
     "metadata": {},
     "output_type": "display_data"
    },
    {
     "data": {
      "text/html": [
       "<pre style=\"white-space:pre;overflow-x:auto;line-height:normal;font-family:Menlo,'DejaVu Sans Mono',consolas,'Courier New',monospace\"><span style=\"font-weight: bold\">[</span><span style=\"color: #008000; text-decoration-color: #008000\">'EC2'</span><span style=\"font-weight: bold\">]</span>\n",
       "</pre>\n"
      ],
      "text/plain": [
       "\u001b[1m[\u001b[0m\u001b[32m'EC2'\u001b[0m\u001b[1m]\u001b[0m\n"
      ]
     },
     "metadata": {},
     "output_type": "display_data"
    },
    {
     "data": {
      "text/html": [
       "<pre style=\"white-space:pre;overflow-x:auto;line-height:normal;font-family:Menlo,'DejaVu Sans Mono',consolas,'Courier New',monospace\"><span style=\"font-weight: bold\">[</span><span style=\"color: #008000; text-decoration-color: #008000\">'EC2'</span><span style=\"font-weight: bold\">]</span>\n",
       "</pre>\n"
      ],
      "text/plain": [
       "\u001b[1m[\u001b[0m\u001b[32m'EC2'\u001b[0m\u001b[1m]\u001b[0m\n"
      ]
     },
     "metadata": {},
     "output_type": "display_data"
    },
    {
     "data": {
      "text/html": [
       "<pre style=\"white-space:pre;overflow-x:auto;line-height:normal;font-family:Menlo,'DejaVu Sans Mono',consolas,'Courier New',monospace\"><span style=\"font-weight: bold\">[</span><span style=\"color: #008000; text-decoration-color: #008000\">'EC2'</span><span style=\"font-weight: bold\">]</span>\n",
       "</pre>\n"
      ],
      "text/plain": [
       "\u001b[1m[\u001b[0m\u001b[32m'EC2'\u001b[0m\u001b[1m]\u001b[0m\n"
      ]
     },
     "metadata": {},
     "output_type": "display_data"
    },
    {
     "data": {
      "text/html": [
       "<pre style=\"white-space:pre;overflow-x:auto;line-height:normal;font-family:Menlo,'DejaVu Sans Mono',consolas,'Courier New',monospace\"><span style=\"font-weight: bold\">[</span><span style=\"color: #008000; text-decoration-color: #008000\">'EC2'</span><span style=\"font-weight: bold\">]</span>\n",
       "</pre>\n"
      ],
      "text/plain": [
       "\u001b[1m[\u001b[0m\u001b[32m'EC2'\u001b[0m\u001b[1m]\u001b[0m\n"
      ]
     },
     "metadata": {},
     "output_type": "display_data"
    },
    {
     "data": {
      "text/html": [
       "<pre style=\"white-space:pre;overflow-x:auto;line-height:normal;font-family:Menlo,'DejaVu Sans Mono',consolas,'Courier New',monospace\"><span style=\"font-weight: bold\">[</span><span style=\"color: #008000; text-decoration-color: #008000\">'EC2'</span><span style=\"font-weight: bold\">]</span>\n",
       "</pre>\n"
      ],
      "text/plain": [
       "\u001b[1m[\u001b[0m\u001b[32m'EC2'\u001b[0m\u001b[1m]\u001b[0m\n"
      ]
     },
     "metadata": {},
     "output_type": "display_data"
    },
    {
     "data": {
      "text/html": [
       "<pre style=\"white-space:pre;overflow-x:auto;line-height:normal;font-family:Menlo,'DejaVu Sans Mono',consolas,'Courier New',monospace\"><span style=\"font-weight: bold\">[</span><span style=\"color: #008000; text-decoration-color: #008000\">'EC2'</span><span style=\"font-weight: bold\">]</span>\n",
       "</pre>\n"
      ],
      "text/plain": [
       "\u001b[1m[\u001b[0m\u001b[32m'EC2'\u001b[0m\u001b[1m]\u001b[0m\n"
      ]
     },
     "metadata": {},
     "output_type": "display_data"
    },
    {
     "data": {
      "text/html": [
       "<pre style=\"white-space:pre;overflow-x:auto;line-height:normal;font-family:Menlo,'DejaVu Sans Mono',consolas,'Courier New',monospace\"><span style=\"font-weight: bold\">[</span><span style=\"color: #008000; text-decoration-color: #008000\">'EC2'</span><span style=\"font-weight: bold\">]</span>\n",
       "</pre>\n"
      ],
      "text/plain": [
       "\u001b[1m[\u001b[0m\u001b[32m'EC2'\u001b[0m\u001b[1m]\u001b[0m\n"
      ]
     },
     "metadata": {},
     "output_type": "display_data"
    },
    {
     "data": {
      "text/html": [
       "<pre style=\"white-space:pre;overflow-x:auto;line-height:normal;font-family:Menlo,'DejaVu Sans Mono',consolas,'Courier New',monospace\"><span style=\"font-weight: bold\">[</span><span style=\"color: #008000; text-decoration-color: #008000\">'EC2'</span><span style=\"font-weight: bold\">]</span>\n",
       "</pre>\n"
      ],
      "text/plain": [
       "\u001b[1m[\u001b[0m\u001b[32m'EC2'\u001b[0m\u001b[1m]\u001b[0m\n"
      ]
     },
     "metadata": {},
     "output_type": "display_data"
    },
    {
     "data": {
      "text/html": [
       "<pre style=\"white-space:pre;overflow-x:auto;line-height:normal;font-family:Menlo,'DejaVu Sans Mono',consolas,'Courier New',monospace\"><span style=\"font-weight: bold\">[</span><span style=\"color: #008000; text-decoration-color: #008000\">'EC2'</span><span style=\"font-weight: bold\">]</span>\n",
       "</pre>\n"
      ],
      "text/plain": [
       "\u001b[1m[\u001b[0m\u001b[32m'EC2'\u001b[0m\u001b[1m]\u001b[0m\n"
      ]
     },
     "metadata": {},
     "output_type": "display_data"
    },
    {
     "data": {
      "text/html": [
       "<pre style=\"white-space:pre;overflow-x:auto;line-height:normal;font-family:Menlo,'DejaVu Sans Mono',consolas,'Courier New',monospace\"><span style=\"font-weight: bold\">[</span><span style=\"color: #008000; text-decoration-color: #008000\">'EC2'</span><span style=\"font-weight: bold\">]</span>\n",
       "</pre>\n"
      ],
      "text/plain": [
       "\u001b[1m[\u001b[0m\u001b[32m'EC2'\u001b[0m\u001b[1m]\u001b[0m\n"
      ]
     },
     "metadata": {},
     "output_type": "display_data"
    },
    {
     "data": {
      "text/html": [
       "<pre style=\"white-space:pre;overflow-x:auto;line-height:normal;font-family:Menlo,'DejaVu Sans Mono',consolas,'Courier New',monospace\"><span style=\"font-weight: bold\">[</span><span style=\"color: #008000; text-decoration-color: #008000\">'EC2'</span><span style=\"font-weight: bold\">]</span>\n",
       "</pre>\n"
      ],
      "text/plain": [
       "\u001b[1m[\u001b[0m\u001b[32m'EC2'\u001b[0m\u001b[1m]\u001b[0m\n"
      ]
     },
     "metadata": {},
     "output_type": "display_data"
    },
    {
     "data": {
      "text/html": [
       "<pre style=\"white-space:pre;overflow-x:auto;line-height:normal;font-family:Menlo,'DejaVu Sans Mono',consolas,'Courier New',monospace\"><span style=\"font-weight: bold\">[</span><span style=\"color: #008000; text-decoration-color: #008000\">'EC2'</span><span style=\"font-weight: bold\">]</span>\n",
       "</pre>\n"
      ],
      "text/plain": [
       "\u001b[1m[\u001b[0m\u001b[32m'EC2'\u001b[0m\u001b[1m]\u001b[0m\n"
      ]
     },
     "metadata": {},
     "output_type": "display_data"
    },
    {
     "data": {
      "text/html": [
       "<pre style=\"white-space:pre;overflow-x:auto;line-height:normal;font-family:Menlo,'DejaVu Sans Mono',consolas,'Courier New',monospace\"><span style=\"font-weight: bold\">[</span><span style=\"color: #008000; text-decoration-color: #008000\">'EC2'</span><span style=\"font-weight: bold\">]</span>\n",
       "</pre>\n"
      ],
      "text/plain": [
       "\u001b[1m[\u001b[0m\u001b[32m'EC2'\u001b[0m\u001b[1m]\u001b[0m\n"
      ]
     },
     "metadata": {},
     "output_type": "display_data"
    },
    {
     "data": {
      "text/html": [
       "<pre style=\"white-space:pre;overflow-x:auto;line-height:normal;font-family:Menlo,'DejaVu Sans Mono',consolas,'Courier New',monospace\"><span style=\"font-weight: bold\">[</span><span style=\"color: #008000; text-decoration-color: #008000\">'EC2'</span><span style=\"font-weight: bold\">]</span>\n",
       "</pre>\n"
      ],
      "text/plain": [
       "\u001b[1m[\u001b[0m\u001b[32m'EC2'\u001b[0m\u001b[1m]\u001b[0m\n"
      ]
     },
     "metadata": {},
     "output_type": "display_data"
    },
    {
     "data": {
      "text/html": [
       "<pre style=\"white-space:pre;overflow-x:auto;line-height:normal;font-family:Menlo,'DejaVu Sans Mono',consolas,'Courier New',monospace\"><span style=\"font-weight: bold\">[</span><span style=\"color: #008000; text-decoration-color: #008000\">'EC2'</span><span style=\"font-weight: bold\">]</span>\n",
       "</pre>\n"
      ],
      "text/plain": [
       "\u001b[1m[\u001b[0m\u001b[32m'EC2'\u001b[0m\u001b[1m]\u001b[0m\n"
      ]
     },
     "metadata": {},
     "output_type": "display_data"
    },
    {
     "data": {
      "text/html": [
       "<pre style=\"white-space:pre;overflow-x:auto;line-height:normal;font-family:Menlo,'DejaVu Sans Mono',consolas,'Courier New',monospace\"><span style=\"font-weight: bold\">[</span><span style=\"color: #008000; text-decoration-color: #008000\">'EC2'</span><span style=\"font-weight: bold\">]</span>\n",
       "</pre>\n"
      ],
      "text/plain": [
       "\u001b[1m[\u001b[0m\u001b[32m'EC2'\u001b[0m\u001b[1m]\u001b[0m\n"
      ]
     },
     "metadata": {},
     "output_type": "display_data"
    },
    {
     "data": {
      "text/html": [
       "<pre style=\"white-space:pre;overflow-x:auto;line-height:normal;font-family:Menlo,'DejaVu Sans Mono',consolas,'Courier New',monospace\"><span style=\"font-weight: bold\">[</span><span style=\"color: #008000; text-decoration-color: #008000\">'EC2'</span><span style=\"font-weight: bold\">]</span>\n",
       "</pre>\n"
      ],
      "text/plain": [
       "\u001b[1m[\u001b[0m\u001b[32m'EC2'\u001b[0m\u001b[1m]\u001b[0m\n"
      ]
     },
     "metadata": {},
     "output_type": "display_data"
    },
    {
     "data": {
      "text/html": [
       "<pre style=\"white-space:pre;overflow-x:auto;line-height:normal;font-family:Menlo,'DejaVu Sans Mono',consolas,'Courier New',monospace\"><span style=\"font-weight: bold\">[</span><span style=\"color: #008000; text-decoration-color: #008000\">'EC2'</span><span style=\"font-weight: bold\">]</span>\n",
       "</pre>\n"
      ],
      "text/plain": [
       "\u001b[1m[\u001b[0m\u001b[32m'EC2'\u001b[0m\u001b[1m]\u001b[0m\n"
      ]
     },
     "metadata": {},
     "output_type": "display_data"
    },
    {
     "data": {
      "text/html": [
       "<pre style=\"white-space:pre;overflow-x:auto;line-height:normal;font-family:Menlo,'DejaVu Sans Mono',consolas,'Courier New',monospace\"><span style=\"font-weight: bold\">[</span><span style=\"color: #008000; text-decoration-color: #008000\">'EC2'</span><span style=\"font-weight: bold\">]</span>\n",
       "</pre>\n"
      ],
      "text/plain": [
       "\u001b[1m[\u001b[0m\u001b[32m'EC2'\u001b[0m\u001b[1m]\u001b[0m\n"
      ]
     },
     "metadata": {},
     "output_type": "display_data"
    },
    {
     "data": {
      "text/html": [
       "<pre style=\"white-space:pre;overflow-x:auto;line-height:normal;font-family:Menlo,'DejaVu Sans Mono',consolas,'Courier New',monospace\"><span style=\"font-weight: bold\">[</span><span style=\"color: #008000; text-decoration-color: #008000\">'EC2'</span><span style=\"font-weight: bold\">]</span>\n",
       "</pre>\n"
      ],
      "text/plain": [
       "\u001b[1m[\u001b[0m\u001b[32m'EC2'\u001b[0m\u001b[1m]\u001b[0m\n"
      ]
     },
     "metadata": {},
     "output_type": "display_data"
    },
    {
     "data": {
      "text/html": [
       "<pre style=\"white-space:pre;overflow-x:auto;line-height:normal;font-family:Menlo,'DejaVu Sans Mono',consolas,'Courier New',monospace\"><span style=\"font-weight: bold\">[</span><span style=\"color: #008000; text-decoration-color: #008000\">'EC2'</span><span style=\"font-weight: bold\">]</span>\n",
       "</pre>\n"
      ],
      "text/plain": [
       "\u001b[1m[\u001b[0m\u001b[32m'EC2'\u001b[0m\u001b[1m]\u001b[0m\n"
      ]
     },
     "metadata": {},
     "output_type": "display_data"
    },
    {
     "data": {
      "text/html": [
       "<pre style=\"white-space:pre;overflow-x:auto;line-height:normal;font-family:Menlo,'DejaVu Sans Mono',consolas,'Courier New',monospace\"><span style=\"font-weight: bold\">[</span><span style=\"color: #008000; text-decoration-color: #008000\">'EC2'</span><span style=\"font-weight: bold\">]</span>\n",
       "</pre>\n"
      ],
      "text/plain": [
       "\u001b[1m[\u001b[0m\u001b[32m'EC2'\u001b[0m\u001b[1m]\u001b[0m\n"
      ]
     },
     "metadata": {},
     "output_type": "display_data"
    },
    {
     "data": {
      "text/html": [
       "<pre style=\"white-space:pre;overflow-x:auto;line-height:normal;font-family:Menlo,'DejaVu Sans Mono',consolas,'Courier New',monospace\"><span style=\"font-weight: bold\">[</span><span style=\"color: #008000; text-decoration-color: #008000\">'EC2'</span><span style=\"font-weight: bold\">]</span>\n",
       "</pre>\n"
      ],
      "text/plain": [
       "\u001b[1m[\u001b[0m\u001b[32m'EC2'\u001b[0m\u001b[1m]\u001b[0m\n"
      ]
     },
     "metadata": {},
     "output_type": "display_data"
    },
    {
     "data": {
      "text/html": [
       "<pre style=\"white-space:pre;overflow-x:auto;line-height:normal;font-family:Menlo,'DejaVu Sans Mono',consolas,'Courier New',monospace\"><span style=\"font-weight: bold\">[</span><span style=\"color: #008000; text-decoration-color: #008000\">'EC2'</span><span style=\"font-weight: bold\">]</span>\n",
       "</pre>\n"
      ],
      "text/plain": [
       "\u001b[1m[\u001b[0m\u001b[32m'EC2'\u001b[0m\u001b[1m]\u001b[0m\n"
      ]
     },
     "metadata": {},
     "output_type": "display_data"
    },
    {
     "data": {
      "text/html": [
       "<pre style=\"white-space:pre;overflow-x:auto;line-height:normal;font-family:Menlo,'DejaVu Sans Mono',consolas,'Courier New',monospace\"><span style=\"font-weight: bold\">[</span><span style=\"color: #008000; text-decoration-color: #008000\">'EC2'</span><span style=\"font-weight: bold\">]</span>\n",
       "</pre>\n"
      ],
      "text/plain": [
       "\u001b[1m[\u001b[0m\u001b[32m'EC2'\u001b[0m\u001b[1m]\u001b[0m\n"
      ]
     },
     "metadata": {},
     "output_type": "display_data"
    },
    {
     "data": {
      "text/html": [
       "<pre style=\"white-space:pre;overflow-x:auto;line-height:normal;font-family:Menlo,'DejaVu Sans Mono',consolas,'Courier New',monospace\"><span style=\"font-weight: bold\">[</span><span style=\"color: #008000; text-decoration-color: #008000\">'EC2'</span><span style=\"font-weight: bold\">]</span>\n",
       "</pre>\n"
      ],
      "text/plain": [
       "\u001b[1m[\u001b[0m\u001b[32m'EC2'\u001b[0m\u001b[1m]\u001b[0m\n"
      ]
     },
     "metadata": {},
     "output_type": "display_data"
    },
    {
     "data": {
      "text/html": [
       "<pre style=\"white-space:pre;overflow-x:auto;line-height:normal;font-family:Menlo,'DejaVu Sans Mono',consolas,'Courier New',monospace\"><span style=\"font-weight: bold\">[</span><span style=\"color: #008000; text-decoration-color: #008000\">'EC2'</span><span style=\"font-weight: bold\">]</span>\n",
       "</pre>\n"
      ],
      "text/plain": [
       "\u001b[1m[\u001b[0m\u001b[32m'EC2'\u001b[0m\u001b[1m]\u001b[0m\n"
      ]
     },
     "metadata": {},
     "output_type": "display_data"
    },
    {
     "data": {
      "text/html": [
       "<pre style=\"white-space:pre;overflow-x:auto;line-height:normal;font-family:Menlo,'DejaVu Sans Mono',consolas,'Courier New',monospace\"><span style=\"font-weight: bold\">[</span><span style=\"color: #008000; text-decoration-color: #008000\">'EC2'</span><span style=\"font-weight: bold\">]</span>\n",
       "</pre>\n"
      ],
      "text/plain": [
       "\u001b[1m[\u001b[0m\u001b[32m'EC2'\u001b[0m\u001b[1m]\u001b[0m\n"
      ]
     },
     "metadata": {},
     "output_type": "display_data"
    },
    {
     "data": {
      "text/html": [
       "<pre style=\"white-space:pre;overflow-x:auto;line-height:normal;font-family:Menlo,'DejaVu Sans Mono',consolas,'Courier New',monospace\"><span style=\"font-weight: bold\">[</span><span style=\"color: #008000; text-decoration-color: #008000\">'EC2'</span><span style=\"font-weight: bold\">]</span>\n",
       "</pre>\n"
      ],
      "text/plain": [
       "\u001b[1m[\u001b[0m\u001b[32m'EC2'\u001b[0m\u001b[1m]\u001b[0m\n"
      ]
     },
     "metadata": {},
     "output_type": "display_data"
    },
    {
     "data": {
      "text/html": [
       "<pre style=\"white-space:pre;overflow-x:auto;line-height:normal;font-family:Menlo,'DejaVu Sans Mono',consolas,'Courier New',monospace\"><span style=\"font-weight: bold\">[</span><span style=\"color: #008000; text-decoration-color: #008000\">'EC2'</span><span style=\"font-weight: bold\">]</span>\n",
       "</pre>\n"
      ],
      "text/plain": [
       "\u001b[1m[\u001b[0m\u001b[32m'EC2'\u001b[0m\u001b[1m]\u001b[0m\n"
      ]
     },
     "metadata": {},
     "output_type": "display_data"
    },
    {
     "data": {
      "text/html": [
       "<pre style=\"white-space:pre;overflow-x:auto;line-height:normal;font-family:Menlo,'DejaVu Sans Mono',consolas,'Courier New',monospace\"><span style=\"font-weight: bold\">[</span><span style=\"color: #008000; text-decoration-color: #008000\">'EC2'</span><span style=\"font-weight: bold\">]</span>\n",
       "</pre>\n"
      ],
      "text/plain": [
       "\u001b[1m[\u001b[0m\u001b[32m'EC2'\u001b[0m\u001b[1m]\u001b[0m\n"
      ]
     },
     "metadata": {},
     "output_type": "display_data"
    },
    {
     "data": {
      "text/html": [
       "<pre style=\"white-space:pre;overflow-x:auto;line-height:normal;font-family:Menlo,'DejaVu Sans Mono',consolas,'Courier New',monospace\"><span style=\"font-weight: bold\">[</span><span style=\"color: #008000; text-decoration-color: #008000\">'EC2'</span><span style=\"font-weight: bold\">]</span>\n",
       "</pre>\n"
      ],
      "text/plain": [
       "\u001b[1m[\u001b[0m\u001b[32m'EC2'\u001b[0m\u001b[1m]\u001b[0m\n"
      ]
     },
     "metadata": {},
     "output_type": "display_data"
    },
    {
     "data": {
      "text/html": [
       "<pre style=\"white-space:pre;overflow-x:auto;line-height:normal;font-family:Menlo,'DejaVu Sans Mono',consolas,'Courier New',monospace\"><span style=\"font-weight: bold\">[</span><span style=\"color: #008000; text-decoration-color: #008000\">'EC2'</span><span style=\"font-weight: bold\">]</span>\n",
       "</pre>\n"
      ],
      "text/plain": [
       "\u001b[1m[\u001b[0m\u001b[32m'EC2'\u001b[0m\u001b[1m]\u001b[0m\n"
      ]
     },
     "metadata": {},
     "output_type": "display_data"
    },
    {
     "data": {
      "text/html": [
       "<pre style=\"white-space:pre;overflow-x:auto;line-height:normal;font-family:Menlo,'DejaVu Sans Mono',consolas,'Courier New',monospace\"><span style=\"font-weight: bold\">[</span><span style=\"color: #008000; text-decoration-color: #008000\">'EC2'</span><span style=\"font-weight: bold\">]</span>\n",
       "</pre>\n"
      ],
      "text/plain": [
       "\u001b[1m[\u001b[0m\u001b[32m'EC2'\u001b[0m\u001b[1m]\u001b[0m\n"
      ]
     },
     "metadata": {},
     "output_type": "display_data"
    },
    {
     "data": {
      "text/html": [
       "<pre style=\"white-space:pre;overflow-x:auto;line-height:normal;font-family:Menlo,'DejaVu Sans Mono',consolas,'Courier New',monospace\"><span style=\"font-weight: bold\">[</span><span style=\"color: #008000; text-decoration-color: #008000\">'EC2'</span><span style=\"font-weight: bold\">]</span>\n",
       "</pre>\n"
      ],
      "text/plain": [
       "\u001b[1m[\u001b[0m\u001b[32m'EC2'\u001b[0m\u001b[1m]\u001b[0m\n"
      ]
     },
     "metadata": {},
     "output_type": "display_data"
    },
    {
     "data": {
      "text/html": [
       "<pre style=\"white-space:pre;overflow-x:auto;line-height:normal;font-family:Menlo,'DejaVu Sans Mono',consolas,'Courier New',monospace\"><span style=\"font-weight: bold\">[</span><span style=\"color: #008000; text-decoration-color: #008000\">'EC2'</span><span style=\"font-weight: bold\">]</span>\n",
       "</pre>\n"
      ],
      "text/plain": [
       "\u001b[1m[\u001b[0m\u001b[32m'EC2'\u001b[0m\u001b[1m]\u001b[0m\n"
      ]
     },
     "metadata": {},
     "output_type": "display_data"
    },
    {
     "data": {
      "text/html": [
       "<pre style=\"white-space:pre;overflow-x:auto;line-height:normal;font-family:Menlo,'DejaVu Sans Mono',consolas,'Courier New',monospace\"><span style=\"font-weight: bold\">[</span><span style=\"color: #008000; text-decoration-color: #008000\">'EC2'</span><span style=\"font-weight: bold\">]</span>\n",
       "</pre>\n"
      ],
      "text/plain": [
       "\u001b[1m[\u001b[0m\u001b[32m'EC2'\u001b[0m\u001b[1m]\u001b[0m\n"
      ]
     },
     "metadata": {},
     "output_type": "display_data"
    },
    {
     "data": {
      "text/html": [
       "<pre style=\"white-space:pre;overflow-x:auto;line-height:normal;font-family:Menlo,'DejaVu Sans Mono',consolas,'Courier New',monospace\"><span style=\"font-weight: bold\">[</span><span style=\"color: #008000; text-decoration-color: #008000\">'EC2'</span><span style=\"font-weight: bold\">]</span>\n",
       "</pre>\n"
      ],
      "text/plain": [
       "\u001b[1m[\u001b[0m\u001b[32m'EC2'\u001b[0m\u001b[1m]\u001b[0m\n"
      ]
     },
     "metadata": {},
     "output_type": "display_data"
    },
    {
     "data": {
      "text/html": [
       "<pre style=\"white-space:pre;overflow-x:auto;line-height:normal;font-family:Menlo,'DejaVu Sans Mono',consolas,'Courier New',monospace\"><span style=\"font-weight: bold\">[</span><span style=\"color: #008000; text-decoration-color: #008000\">'EC2'</span><span style=\"font-weight: bold\">]</span>\n",
       "</pre>\n"
      ],
      "text/plain": [
       "\u001b[1m[\u001b[0m\u001b[32m'EC2'\u001b[0m\u001b[1m]\u001b[0m\n"
      ]
     },
     "metadata": {},
     "output_type": "display_data"
    },
    {
     "data": {
      "text/html": [
       "<pre style=\"white-space:pre;overflow-x:auto;line-height:normal;font-family:Menlo,'DejaVu Sans Mono',consolas,'Courier New',monospace\"><span style=\"font-weight: bold\">[</span><span style=\"color: #008000; text-decoration-color: #008000\">'EC2'</span><span style=\"font-weight: bold\">]</span>\n",
       "</pre>\n"
      ],
      "text/plain": [
       "\u001b[1m[\u001b[0m\u001b[32m'EC2'\u001b[0m\u001b[1m]\u001b[0m\n"
      ]
     },
     "metadata": {},
     "output_type": "display_data"
    },
    {
     "data": {
      "text/html": [
       "<pre style=\"white-space:pre;overflow-x:auto;line-height:normal;font-family:Menlo,'DejaVu Sans Mono',consolas,'Courier New',monospace\"><span style=\"font-weight: bold\">[</span><span style=\"color: #008000; text-decoration-color: #008000\">'EC2'</span><span style=\"font-weight: bold\">]</span>\n",
       "</pre>\n"
      ],
      "text/plain": [
       "\u001b[1m[\u001b[0m\u001b[32m'EC2'\u001b[0m\u001b[1m]\u001b[0m\n"
      ]
     },
     "metadata": {},
     "output_type": "display_data"
    },
    {
     "data": {
      "text/html": [
       "<pre style=\"white-space:pre;overflow-x:auto;line-height:normal;font-family:Menlo,'DejaVu Sans Mono',consolas,'Courier New',monospace\"><span style=\"font-weight: bold\">[</span><span style=\"color: #008000; text-decoration-color: #008000\">'EC2'</span><span style=\"font-weight: bold\">]</span>\n",
       "</pre>\n"
      ],
      "text/plain": [
       "\u001b[1m[\u001b[0m\u001b[32m'EC2'\u001b[0m\u001b[1m]\u001b[0m\n"
      ]
     },
     "metadata": {},
     "output_type": "display_data"
    },
    {
     "data": {
      "text/html": [
       "<pre style=\"white-space:pre;overflow-x:auto;line-height:normal;font-family:Menlo,'DejaVu Sans Mono',consolas,'Courier New',monospace\"><span style=\"font-weight: bold\">[</span><span style=\"color: #008000; text-decoration-color: #008000\">'EC2'</span><span style=\"font-weight: bold\">]</span>\n",
       "</pre>\n"
      ],
      "text/plain": [
       "\u001b[1m[\u001b[0m\u001b[32m'EC2'\u001b[0m\u001b[1m]\u001b[0m\n"
      ]
     },
     "metadata": {},
     "output_type": "display_data"
    },
    {
     "data": {
      "text/html": [
       "<pre style=\"white-space:pre;overflow-x:auto;line-height:normal;font-family:Menlo,'DejaVu Sans Mono',consolas,'Courier New',monospace\"><span style=\"font-weight: bold\">[</span><span style=\"color: #008000; text-decoration-color: #008000\">'EC2'</span><span style=\"font-weight: bold\">]</span>\n",
       "</pre>\n"
      ],
      "text/plain": [
       "\u001b[1m[\u001b[0m\u001b[32m'EC2'\u001b[0m\u001b[1m]\u001b[0m\n"
      ]
     },
     "metadata": {},
     "output_type": "display_data"
    },
    {
     "data": {
      "text/html": [
       "<pre style=\"white-space:pre;overflow-x:auto;line-height:normal;font-family:Menlo,'DejaVu Sans Mono',consolas,'Courier New',monospace\"><span style=\"font-weight: bold\">[</span><span style=\"color: #008000; text-decoration-color: #008000\">'EC2'</span><span style=\"font-weight: bold\">]</span>\n",
       "</pre>\n"
      ],
      "text/plain": [
       "\u001b[1m[\u001b[0m\u001b[32m'EC2'\u001b[0m\u001b[1m]\u001b[0m\n"
      ]
     },
     "metadata": {},
     "output_type": "display_data"
    },
    {
     "data": {
      "text/html": [
       "<pre style=\"white-space:pre;overflow-x:auto;line-height:normal;font-family:Menlo,'DejaVu Sans Mono',consolas,'Courier New',monospace\"><span style=\"font-weight: bold\">[</span><span style=\"color: #008000; text-decoration-color: #008000\">'EC2'</span><span style=\"font-weight: bold\">]</span>\n",
       "</pre>\n"
      ],
      "text/plain": [
       "\u001b[1m[\u001b[0m\u001b[32m'EC2'\u001b[0m\u001b[1m]\u001b[0m\n"
      ]
     },
     "metadata": {},
     "output_type": "display_data"
    },
    {
     "data": {
      "text/html": [
       "<pre style=\"white-space:pre;overflow-x:auto;line-height:normal;font-family:Menlo,'DejaVu Sans Mono',consolas,'Courier New',monospace\"><span style=\"font-weight: bold\">[</span><span style=\"color: #008000; text-decoration-color: #008000\">'EC2'</span><span style=\"font-weight: bold\">]</span>\n",
       "</pre>\n"
      ],
      "text/plain": [
       "\u001b[1m[\u001b[0m\u001b[32m'EC2'\u001b[0m\u001b[1m]\u001b[0m\n"
      ]
     },
     "metadata": {},
     "output_type": "display_data"
    },
    {
     "data": {
      "text/html": [
       "<pre style=\"white-space:pre;overflow-x:auto;line-height:normal;font-family:Menlo,'DejaVu Sans Mono',consolas,'Courier New',monospace\"><span style=\"font-weight: bold\">[</span><span style=\"color: #008000; text-decoration-color: #008000\">'EC2'</span><span style=\"font-weight: bold\">]</span>\n",
       "</pre>\n"
      ],
      "text/plain": [
       "\u001b[1m[\u001b[0m\u001b[32m'EC2'\u001b[0m\u001b[1m]\u001b[0m\n"
      ]
     },
     "metadata": {},
     "output_type": "display_data"
    },
    {
     "data": {
      "text/html": [
       "<pre style=\"white-space:pre;overflow-x:auto;line-height:normal;font-family:Menlo,'DejaVu Sans Mono',consolas,'Courier New',monospace\"><span style=\"font-weight: bold\">[</span><span style=\"color: #008000; text-decoration-color: #008000\">'EC2'</span><span style=\"font-weight: bold\">]</span>\n",
       "</pre>\n"
      ],
      "text/plain": [
       "\u001b[1m[\u001b[0m\u001b[32m'EC2'\u001b[0m\u001b[1m]\u001b[0m\n"
      ]
     },
     "metadata": {},
     "output_type": "display_data"
    },
    {
     "data": {
      "text/html": [
       "<pre style=\"white-space:pre;overflow-x:auto;line-height:normal;font-family:Menlo,'DejaVu Sans Mono',consolas,'Courier New',monospace\"><span style=\"font-weight: bold\">[</span><span style=\"color: #008000; text-decoration-color: #008000\">'EC2'</span><span style=\"font-weight: bold\">]</span>\n",
       "</pre>\n"
      ],
      "text/plain": [
       "\u001b[1m[\u001b[0m\u001b[32m'EC2'\u001b[0m\u001b[1m]\u001b[0m\n"
      ]
     },
     "metadata": {},
     "output_type": "display_data"
    }
   ],
   "source": [
    "for subnet in subnets:\n",
    "    for eni in subnet.enis_in_sunet:\n",
    "        print(x)"
   ]
  }
 ],
 "metadata": {
  "kernelspec": {
   "display_name": "Python 3.10.7 64-bit",
   "language": "python",
   "name": "python3"
  },
  "language_info": {
   "codemirror_mode": {
    "name": "ipython",
    "version": 3
   },
   "file_extension": ".py",
   "mimetype": "text/x-python",
   "name": "python",
   "nbconvert_exporter": "python",
   "pygments_lexer": "ipython3",
   "version": "3.10.7"
  },
  "orig_nbformat": 4,
  "vscode": {
   "interpreter": {
    "hash": "916dbcbb3f70747c44a77c7bcd40155683ae19c65e1c03b4aa3499c5328201f1"
   }
  }
 },
 "nbformat": 4,
 "nbformat_minor": 2
}
